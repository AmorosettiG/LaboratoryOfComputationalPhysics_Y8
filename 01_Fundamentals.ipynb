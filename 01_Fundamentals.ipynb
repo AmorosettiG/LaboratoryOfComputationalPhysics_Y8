{
 "cells": [
  {
   "cell_type": "markdown",
   "metadata": {},
   "source": [
    "# Modules/packages/libraries\n",
    "\n",
    "Definitions:\n",
    "\n",
    "  * Modules:\n",
    "  A module is a file which contains python functions, global variables etc. It is nothing but .py file which has python executable code / statement.\n",
    "\n",
    "  * Packages:\n",
    "  A package is a namespace which contains multiple package/modules. It is a directory which contains a special file `__init__.py`\n",
    "  \n",
    "  * Libraries:\n",
    "  A library is a collection of various packages. There is no difference between package and python library conceptually.\n",
    "  \n",
    "Modules/packages/libraries can be easily \"imported\" and made functional in your python code. A set of libriaries comes with every python installation. Others can be installed locally and then imported. Your own code sitting somewhere else in your local computer can be imported too.\n",
    "\n",
    "Further details (very important!) on packages and how to create them can be found online. We may find the need of creating our own during the course."
   ]
  },
  {
   "cell_type": "code",
   "execution_count": 1,
   "metadata": {},
   "outputs": [
    {
     "name": "stdout",
     "output_type": "stream",
     "text": [
      "3.141592653589793\n",
      "3.141592653589793\n",
      "3.141592653589793\n",
      "2.6457513110645907\n"
     ]
    }
   ],
   "source": [
    "###### all the \"stuff\" that is in the math library can be used\n",
    "import math\n",
    "print(math.pi)\n",
    "\n",
    "# you can give math a label for convenience\n",
    "import math as m\n",
    "print (m.pi)\n",
    "\n",
    "# alternatively you can import only a given \"thing\" from the library\n",
    "from math import pi    #you can add several libraries at once, just list them separated by a \", \"\n",
    "print (pi)\n",
    "\n",
    "#  or just get everything (very dangerous!!!)\n",
    "from math import *\n",
    "print (sqrt(7))"
   ]
  },
  {
   "cell_type": "markdown",
   "metadata": {},
   "source": [
    "To know which modules are there for you to use just type:"
   ]
  },
  {
   "cell_type": "code",
   "execution_count": 2,
   "metadata": {},
   "outputs": [
    {
     "name": "stdout",
     "output_type": "stream",
     "text": [
      "\n",
      "Please wait a moment while I gather a list of all available modules...\n",
      "\n"
     ]
    },
    {
     "name": "stderr",
     "output_type": "stream",
     "text": [
      "c:\\Programs\\miniconda3\\Lib\\site-packages\\pydantic\\experimental\\__init__.py:7: PydanticExperimentalWarning: This module is experimental, its contents are subject to change and deprecation.\n",
      "  warnings.warn(\n",
      "c:\\Programs\\miniconda3\\Lib\\pkgutil.py:78: UserWarning: The superqt.qtcompat module is deprecated as of v0.3.0. Please import from `qtpy` instead.\n",
      "  __import__(info.name)\n",
      "c:\\Programs\\miniconda3\\Lib\\site-packages\\tqdm\\auto.py:21: TqdmWarning: IProgress not found. Please update jupyter and ipywidgets. See https://ipywidgets.readthedocs.io/en/stable/user_install.html\n",
      "  from .autonotebook import tqdm as notebook_tqdm\n"
     ]
    },
    {
     "name": "stdout",
     "output_type": "stream",
     "text": [
      "IPython             cloudpickle         mistune             soupsieve\n",
      "PIL                 cmath               mkl                 sphinx\n",
      "PyQt6               cmd                 mkl_fft             spyder\n",
      "__future__          code                mkl_random          spyder_kernels\n",
      "__hello__           codecs              mmap                sqlite3\n",
      "__phello__          codeop              mmapfile            sre_compile\n",
      "_abc                collections         mmsystem            sre_constants\n",
      "_aix_support        colorama            modulefinder        sre_parse\n",
      "_argon2_cffi_bindings colorsys            more_itertools      ssl\n",
      "_ast                comm                msgpack             sspi\n",
      "_asyncio            commctrl            msilib              sspicon\n",
      "_bisect             compileall          msvcrt              stack_data\n",
      "_black_version      concurrent          multidict           starlette\n",
      "_blake2             conda               multiprocessing     start_pythonwin\n",
      "_bz2                conda_content_trust mypy_extensions     stat\n",
      "_cffi_backend       conda_env           nacl                statistics\n",
      "_codecs             conda_libmamba_solver narwhals            string\n",
      "_codecs_cn          conda_package_handling nbclient            stringprep\n",
      "_codecs_hk          conda_package_streaming nbconvert           struct\n",
      "_codecs_iso2022     configparser        nbformat            subprocess\n",
      "_codecs_jp          contextlib          nest_asyncio        sunau\n",
      "_codecs_kr          contextvars         netbios             superqt\n",
      "_codecs_tw          contourpy           netgraph            symtable\n",
      "_collections        cookiecutter        netrc               sys\n",
      "_collections_abc    copy                networkx            sysconfig\n",
      "_compat_pickle      copyreg             nntplib             tabnanny\n",
      "_compression        crypt               notebook            tarfile\n",
      "_contextvars        cryptography        notebook_shim       tblib\n",
      "_csv                csv                 nt                  telnetlib\n",
      "_ctypes             ctypes              ntpath              tempfile\n",
      "_ctypes_test        curses              ntsecuritycon       terminado\n",
      "_datetime           cv2                 nturl2path          test\n",
      "_decimal            cwp                 numba               test_pycosat\n",
      "_distutils_hack     cycler              numbers             text_unidecode\n",
      "_elementtree        dask                numexpr             textdistance\n",
      "_functools          dataclasses         numpy               textwrap\n",
      "_hashlib            datetime            numpydoc            this\n",
      "_heapq              dateutil            odbc                threading\n",
      "_imp                dbm                 opcode              threadpoolctl\n",
      "_io                 dde                 operator            three_merge\n",
      "_json               debugpy             optparse            time\n",
      "_locale             decimal             os                  timeit\n",
      "_lsprof             decorator           overrides           timer\n",
      "_lzma               defusedxml          packaging           tinycss2\n",
      "_markupbase         deprecated          pandas              tkinter\n",
      "_md5                diff_match_patch    pandocfilters       tlz\n",
      "_msi                difflib             paramiko            token\n",
      "_multibytecodec     dill                parso               tokenize\n",
      "_multiprocessing    dis                 partd               tomli\n",
      "_nsis               distributed         past                tomlkit\n",
      "_opcode             distro              pathlib             tomllib\n",
      "_operator           docstring_to_markdown pathspec            toolz\n",
      "_osx_support        doctest             pdb                 tornado\n",
      "_overlapped         docutils            perfmon             tqdm\n",
      "_pickle             email               pexpect             trace\n",
      "_py_abc             encodings           pickle              traceback\n",
      "_pydatetime         ensurepip           pickleshare         tracemalloc\n",
      "_pydecimal          enum                pickletools         traitlets\n",
      "_pyio               errno               pip                 truststore\n",
      "_pylong             executing           pipes               tty\n",
      "_queue              fastapi             pkg_resources       turtle\n",
      "_random             fastjsonschema      pkgutil             turtledemo\n",
      "_ruamel_yaml        faulthandler        platform            types\n",
      "_sha1               filecmp             platformdirs        typing\n",
      "_sha2               fileinput           plistlib            typing_extensions\n",
      "_sha3               flake8              pluggy              tzdata\n",
      "_signal             fnmatch             poplib              ujson\n",
      "_sitebuiltins       fontTools           posixpath           unicodedata\n",
      "_socket             fortls              pprint              unittest\n",
      "_sqlite3            fractions           profile             urllib\n",
      "_sre                frozendict          prometheus_client   urllib3\n",
      "_ssl                frozenlist          prompt_toolkit      uu\n",
      "_stat               fsspec              propcache           uuid\n",
      "_statistics         ftplib              pstats              uvicorn\n",
      "_string             functools           psutil              venv\n",
      "_strptime           future              pty                 warnings\n",
      "_struct             gc                  ptyprocess          watchdog\n",
      "_symtable           genericpath         pure_eval           wave\n",
      "_system_path        getopt              py_compile          wcwidth\n",
      "_testbuffer         getpass             pyarrow             weakref\n",
      "_testcapi           gettext             pycares             webbrowser\n",
      "_testclinic         github              pyclbr              webencodings\n",
      "_testconsole        glob                pycodestyle         websocket\n",
      "_testimportmultiple grandalf            pycosat             whatthepatch\n",
      "_testinternalcapi   graphlib            pycparser           wheel\n",
      "_testmultiphase     gzip                pydantic            win2kras\n",
      "_testsinglephase    h11                 pydantic_core       win32api\n",
      "_thread             hashlib             pydoc               win32clipboard\n",
      "_threading_local    heapdict            pydoc_data          win32com\n",
      "_tkinter            heapq               pydocstyle          win32con\n",
      "_tokenize           hmac                pyexpat             win32console\n",
      "_tracemalloc        html                pyflakes            win32cred\n",
      "_typing             http                pygments            win32crypt\n",
      "_uuid               httpcore            pylab               win32cryptcon\n",
      "_warnings           httpx               pylint              win32ctypes\n",
      "_weakref            idlelib             pylint_venv         win32event\n",
      "_weakrefset         idna                pyls_spyder         win32evtlog\n",
      "_win32sysloader     imagesize           pylsp               win32evtlogutil\n",
      "_win32verstamp_pywin32ctypes imaplib             pylsp_black         win32file\n",
      "_winapi             imghdr              pylsp_jsonrpc       win32gui\n",
      "_winxptheme         importlib           pyopencl            win32gui_struct\n",
      "_wmi                importlib_metadata  pyparsing           win32help\n",
      "_xxinterpchannels   inflection          pythoncom           win32inet\n",
      "_xxsubinterpreters  inspect             pythonjsonlogger    win32inetcon\n",
      "_yaml               intervaltree        pytoolconfig        win32job\n",
      "_zoneinfo           io                  pytools             win32lz\n",
      "abc                 ipaddress           pytz                win32net\n",
      "adodbapi            ipykernel           pyuca               win32netcon\n",
      "afxres              ipykernel_launcher  pywin               win32pdh\n",
      "aifc                isapi               pywin32_bootstrap   win32pdhquery\n",
      "aiodns              isort               pywin32_testutil    win32pdhutil\n",
      "aiohappyeyeballs    itertools           pywintypes          win32pipe\n",
      "aiohttp             jedi                qdarkstyle          win32print\n",
      "aiosignal           jellyfish           qstylizer           win32process\n",
      "alabaster           jinja2              qtawesome           win32profile\n",
      "anaconda_anon_usage joblib              qtconsole           win32ras\n",
      "annotated_types     json                qtpy                win32rcparser\n",
      "antigravity         json5               queue               win32security\n",
      "anyio               jsonpatch           quopri              win32service\n",
      "archspec            jsonpointer         random              win32serviceutil\n",
      "argon2              jsonschema          rasutil             win32timezone\n",
      "argparse            jsonschema_specifications re                  win32trace\n",
      "array               jupyter             referencing         win32traceutil\n",
      "arrow               jupyter_client      regcheck            win32transaction\n",
      "ast                 jupyter_core        regutil             win32ts\n",
      "astroid             jupyter_events      reprlib             win32ui\n",
      "asttokens           jupyter_lsp         requests            win32uiole\n",
      "async_lru           jupyter_server      rfc3339_validator   win32verstamp\n",
      "asyncio             jupyter_server_terminals rfc3986_validator   win32wnet\n",
      "asyncssh            jupyterlab          rich                win_inet_pton\n",
      "atexit              jupyterlab_pygments rlcompleter         winerror\n",
      "atomicwrites        jupyterlab_server   roman_numerals      winioctlcon\n",
      "attr                jwt                 rope                winloop\n",
      "attrs               kernprof            rpack               winnt\n",
      "audioop             keyring             rpds                winperf\n",
      "autopep8            keyword             rtree               winpty\n",
      "babel               kiwisolver          runpy               winreg\n",
      "base64              lazy_object_proxy   sched               winsound\n",
      "bcrypt              lib2to3             scipy               winxpgui\n",
      "bdb                 libfuturize         seaborn             winxptheme\n",
      "binaryornot         libmambapy          secrets             wrapt\n",
      "binascii            libpasteurize       select              wsgiref\n",
      "bisect              line_profiler       selectors           xdrlib\n",
      "black               linecache           send2trash          xml\n",
      "blackd              llvmlite            servicemanager      xmlrpc\n",
      "bleach              lmdb                setuptools          xxlimited\n",
      "blib2to3            locale              shelve              xxlimited_35\n",
      "bokeh               locket              shlex               xxsubtype\n",
      "boltons             logging             shutil              xyzservices\n",
      "bottleneck          lz4                 signal              yaml\n",
      "brotlicffi          lzma                sipbuild            yapf\n",
      "bs4                 mailbox             site                yapf_third_party\n",
      "builtins            mailcap             six                 yapftests\n",
      "bz2                 mako                sklearn             yarl\n",
      "cProfile            markdown_it         slugify             zict\n",
      "calendar            markupsafe          smtplib             zipapp\n",
      "certifi             marshal             sndhdr              zipfile\n",
      "cffi                math                sniffio             zipimport\n",
      "cgi                 matplotlib          snowballstemmer     zipp\n",
      "cgitb               matplotlib_inline   socket              zlib\n",
      "chardet             mccabe              socketserver        zmq\n",
      "charset_normalizer  mdurl               socks               zoneinfo\n",
      "chunk               menuinst            sockshandler        zstandard\n",
      "click               mimetypes           sortedcontainers    \n",
      "\n",
      "Enter any module name to get more help.  Or, type \"modules spam\" to search\n",
      "for modules whose name or summary contain the string \"spam\".\n",
      "\n",
      "None\n"
     ]
    }
   ],
   "source": [
    "print (help('modules') )\n"
   ]
  },
  {
   "cell_type": "markdown",
   "metadata": {},
   "source": [
    "`pip` is a special package. It is used from the command line to install properly (e.g. matching the version of the local packages) new packages. It can also be used from within python to check i.e. the set installed packages and their versions. N.B.: only the installed packages on top of the default ones will be listed "
   ]
  },
  {
   "cell_type": "code",
   "execution_count": 3,
   "metadata": {},
   "outputs": [
    {
     "name": "stdout",
     "output_type": "stream",
     "text": [
      "['aiodns==3.5.0', 'aiohappyeyeballs==2.6.1', 'aiohttp==3.12.15', 'aiosignal==1.4.0', 'alabaster==0.7.16', 'anaconda-anon-usage==0.7.3', 'annotated-types==0.7.0', 'anyio==4.10.0', 'archspec==0.2.5', 'argon2-cffi-bindings==25.1.0', 'argon2-cffi==21.3.0', 'arrow==1.3.0', 'astroid==3.3.11', 'asttokens==3.0.0', 'async-lru==2.0.4', 'asyncssh==2.17.0', 'atomicwrites==1.4.0', 'attrs==24.3.0', 'autocommand==2.2.2', 'autopep8==2.0.4', 'babel==2.16.0', 'backports.tarfile==1.2.0', 'bcrypt==4.3.0', 'beautifulsoup4==4.13.5', 'binaryornot==0.4.4', 'black==25.1.0', 'bleach==6.2.0', 'bokeh==3.8.0', 'boltons==25.0.0', 'bottleneck==1.4.2', 'brotlicffi==1.0.9.2', 'certifi==2025.10.5', 'cffi==2.0.0', 'chardet==5.2.0', 'charset-normalizer==3.3.2', 'click==8.2.1', 'cloudpickle==3.1.1', 'colorama==0.4.6', 'comm==0.2.1', 'conda-content-trust==0.2.0', 'conda-libmamba-solver==25.4.0', 'conda-package-handling==2.4.0', 'conda-package-streaming==0.12.0', 'conda==25.9.1', 'contourpy==1.3.1', 'cookiecutter==2.6.0', 'cryptography==45.0.7', 'cycler==0.11.0', 'dask==2025.9.1', 'debugpy==1.8.16', 'decorator==5.2.1', 'defusedxml==0.7.1', 'deprecated==1.2.18', 'diff-match-patch==20200713', 'dill==0.4.0', 'distributed==2025.9.1', 'distro==1.9.0', 'docstring-to-markdown==0.17', 'docutils==0.21.2', 'executing==2.2.1', 'fastapi==0.115.3', 'fastjsonschema==2.20.0', 'flake8==7.1.1', 'fonttools==4.60.1', 'fortls==3.1.2', 'frozendict==2.4.2', 'frozenlist==1.5.0', 'fsspec==2025.7.0', 'future==1.0.0', 'grandalf==0.7', 'h11==0.16.0', 'heapdict==1.0.1', 'httpcore==1.0.9', 'httpx==0.28.1', 'idna==3.7', 'imagesize==1.4.1', 'importlib-metadata==8.5.0', 'importlib-resources==6.4.0', 'inflect==7.3.1', 'inflection==0.5.1', 'intervaltree==3.1.0', 'ipykernel==6.30.1', 'ipython==8.30.0', 'isort==6.1.0', 'jaraco-classes==3.4.0', 'jaraco.context==0.0.0', 'jaraco.functools==4.1.0', 'jaraco.text==3.12.1', 'jedi==0.19.2', 'jellyfish==1.1.3', 'jinja2==3.1.6', 'joblib==1.5.2', 'json5==0.9.25', 'jsonpatch==1.33', 'jsonpointer==3.0.0', 'jsonschema-specifications==2023.7.1', 'jsonschema==4.25.0', 'jupyter-client==8.6.3', 'jupyter-core==5.8.1', 'jupyter-events==0.12.0', 'jupyter-lsp==2.2.5', 'jupyter-server-terminals==0.5.3', 'jupyter-server==2.16.0', 'jupyterlab-pygments==0.3.0', 'jupyterlab-server==2.27.3', 'jupyterlab==4.4.7', 'keyring==25.6.0', 'kiwisolver==1.4.8', 'lazy-object-proxy==1.10.0', 'libmambapy==2.3.2', 'line-profiler==4.1.3', 'llvmlite==0.44.0', 'lmdb==1.6.2', 'locket==1.0.0', 'lz4==4.3.2', 'mako==1.3.10', 'markdown-it-py==4.0.0', 'markupsafe==3.0.2', 'matplotlib-inline==0.1.7', 'matplotlib==3.10.6', 'mccabe==0.7.0', 'mdurl==0.1.2', 'menuinst==2.3.1', 'mistune==3.1.2', 'mkl-fft==1.3.11', 'mkl-random==1.2.8', 'mkl-service==2.4.0', 'more-itertools==10.3.0', 'msgpack==1.1.1', 'multidict==6.1.0', 'mypy-extensions==1.0.0', 'narwhals==2.7.0', 'nbclient==0.10.2', 'nbconvert==7.16.6', 'nbformat==5.10.4', 'nest-asyncio==1.6.0', 'netgraph==4.13.2', 'networkx==3.5', 'notebook-shim==0.2.4', 'notebook==7.4.5', 'numba==0.61.2', 'numexpr==2.11.0', 'numpy==2.2.5', 'numpydoc==1.9.0', 'opencv-contrib-python==4.10.0.84', 'opencv-python-headless==4.10.0', 'opencv-python==4.10.0', 'ordered-set==4.1.0', 'overrides==7.4.0', 'packaging==25.0', 'pandas==2.3.3', 'pandocfilters==1.5.1', 'paramiko==3.5.0', 'parso==0.8.4', 'partd==1.4.2', 'pathspec==0.12.1', 'pexpect==4.9.0', 'pickleshare==0.7.5', 'pillow==11.3.0', 'pip==25.2', 'platformdirs==4.3.7', 'pluggy==1.5.0', 'prometheus-client==0.21.1', 'prompt-toolkit==3.0.43', 'propcache==0.3.1', 'psutil==7.0.0', 'ptyprocess==0.7.0', 'pure-eval==0.2.3', 'pyarrow==21.0.0', 'pycares==4.10.0', 'pycodestyle==2.12.1', 'pycosat==0.6.6', 'pycparser==2.23', 'pydantic-core==2.23.4', 'pydantic==2.9.2', 'pydocstyle==6.3.0', 'pyflakes==3.2.0', 'pygithub==2.4.0', 'pygments==2.19.1', 'pyjwt==2.10.1', 'pylint-venv==3.0.3', 'pylint==3.3.8', 'pyls-spyder==0.4.0', 'pynacl==1.6.0', 'pyopencl==2024.3', 'pyparsing==3.2.0', 'pyqt6-sip==13.9.1', 'pyqt6-webengine==6.7.0', 'pyqt6==6.7.1', 'pysocks==1.7.1', 'python-dateutil==2.9.0.post0', 'python-json-logger==3.2.1', 'python-lsp-black==2.0.0', 'python-lsp-jsonrpc==1.1.2', 'python-lsp-server==1.12.2', 'python-slugify==8.0.4', 'pytoolconfig==1.2.6', 'pytools==2024.1.6', 'pytz==2025.2', 'pyuca==1.2', 'pywin32-ctypes==0.2.2', 'pywin32==311', 'pywinpty==2.0.15', 'pyyaml==6.0.2', 'pyzmq==27.1.0', 'qdarkstyle==3.2.3', 'qstylizer==0.2.2', 'qtawesome==1.4.0', 'qtconsole==5.6.1', 'qtpy==2.4.3', 'rectangle-packer==2.0.2', 'referencing==0.30.2', 'requests==2.32.5', 'rfc3339-validator==0.1.4', 'rfc3986-validator==0.1.1', 'rich==13.9.4', 'roman-numerals-py==3.1.0', 'rope==1.13.0', 'rpds-py==0.22.3', 'rtree==1.4.1', 'ruamel.yaml.clib==0.2.12', 'ruamel.yaml==0.18.10', 'scikit-learn==1.7.2', 'scipy==1.16.0', 'seaborn==0.13.2', 'send2trash==1.8.2', 'setuptools==72.1.0', 'sip==6.10.0', 'six==1.17.0', 'sniffio==1.3.0', 'snowballstemmer==3.0.1', 'sortedcontainers==2.4.0', 'soupsieve==2.5', 'sphinx==8.2.3', 'sphinxcontrib-applehelp==2.0.0', 'sphinxcontrib-devhelp==2.0.0', 'sphinxcontrib-htmlhelp==2.1.0', 'sphinxcontrib-jsmath==1.0.1', 'sphinxcontrib-qthelp==2.0.0', 'sphinxcontrib-serializinghtml==2.0.0', 'spyder-kernels==3.0.5', 'spyder==6.0.8', 'stack-data==0.6.3', 'starlette==0.41.0', 'superqt==0.7.6', 'tblib==3.1.0', 'terminado==0.18.1', 'text-unidecode==1.3', 'textdistance==4.6.3', 'threadpoolctl==3.5.0', 'three-merge==0.1.1', 'tinycss2==1.4.0', 'tomli==2.2.1', 'tomlkit==0.13.2', 'toolz==1.0.0', 'tornado==6.5.1', 'tqdm==4.67.1', 'traitlets==5.14.3', 'truststore==0.10.1', 'typeguard==4.3.0', 'typing-extensions==4.15.0', 'tzdata==2025.2', 'ujson==5.10.0', 'urllib3==2.5.0', 'uvicorn==0.32.0', 'watchdog==6.0.0', 'wcwidth==0.2.13', 'webencodings==0.5.1', 'websocket-client==1.8.0', 'whatthepatch==1.0.7', 'wheel==0.45.1', 'win-inet-pton==1.1.0', 'winloop==0.2.2', 'wrapt==1.17.0', 'xyzservices==2025.4.0', 'yapf==0.40.2', 'yarl==1.18.0', 'zict==3.0.0', 'zipp==3.21.0', 'zstandard==0.23.0']\n"
     ]
    }
   ],
   "source": [
    "\"\"\"\"\"\n",
    "try:\n",
    "    # this doesn't work anymore\n",
    "    import pip\n",
    "    sorted([\"%s==%s\" % (i.key, i.version) for i in pip._internal.utils.misc.get_installed_distributions()])\n",
    "    print (\"within try\")\n",
    "\"\"\"\"\" \n",
    "# use this instead\n",
    "import pkg_resources\n",
    "installed_packages = pkg_resources.working_set\n",
    "installed_packages_list = sorted([\"%s==%s\" % (i.key, i.version)\n",
    "    for i in installed_packages])\n",
    "print(installed_packages_list)\n"
   ]
  },
  {
   "cell_type": "markdown",
   "metadata": {},
   "source": [
    "# Copies and Views\n",
    "\n",
    "#### Copies:\n",
    "* A **copy** creates a new object that is a duplicate of the original one.\n",
    "* Changes made to the copy do not affect the original object, and vice versa.\n",
    "* There are two types of copies:\n",
    "  * Shallow Copy: Only the top-level object is copied. If the original object contains references to other objects (e.g., a list of lists), the references are copied, not the objects themselves.\n",
    "  * Deep Copy: A complete copy is made, including all nested objects. Changes to any part of the deep copy won’t affect the original object."
   ]
  },
  {
   "cell_type": "code",
   "execution_count": 5,
   "metadata": {},
   "outputs": [
    {
     "name": "stdout",
     "output_type": "stream",
     "text": [
      "Original: [1, 2, [300, 4]]\n",
      "Shallow Copy: [100, 2, [300, 4]]\n"
     ]
    }
   ],
   "source": [
    "import copy\n",
    "original = [1, 2, [3, 4]]\n",
    "shallow_copy = copy.copy(original)\n",
    "\n",
    "shallow_copy[0] = 100  # This won't affect the original\n",
    "shallow_copy[2][0] = 300  # This will affect the original's nested list\n",
    "\n",
    "print(\"Original:\", original)  \n",
    "print(\"Shallow Copy:\", shallow_copy) \n"
   ]
  },
  {
   "cell_type": "markdown",
   "metadata": {},
   "source": [
    "#### Views:\n",
    "* A view provides a reference to the original object without creating a new object.\n",
    "* Changes made through the view directly affect the original object because the view is simply another way of accessing the original data.\n",
    "* We will see in the next classes that NumPy arrays and Pandas DataFrames often deal with views when you slice or manipulate them.\n"
   ]
  },
  {
   "cell_type": "code",
   "execution_count": 6,
   "metadata": {},
   "outputs": [
    {
     "name": "stdout",
     "output_type": "stream",
     "text": [
      "Original array: [  1 100   3   4]\n",
      "View: [100   3]\n"
     ]
    }
   ],
   "source": [
    "import numpy as np\n",
    "arr = np.array([1, 2, 3, 4])\n",
    "view = arr[1:3]  # This creates a view, not a copy\n",
    "\n",
    "view[0] = 100  # Modifies the original array\n",
    "\n",
    "print(\"Original array:\", arr)  \n",
    "print(\"View:\", view)  \n"
   ]
  },
  {
   "cell_type": "markdown",
   "metadata": {},
   "source": [
    "# Functions"
   ]
  },
  {
   "cell_type": "code",
   "execution_count": 8,
   "metadata": {},
   "outputs": [
    {
     "name": "stdout",
     "output_type": "stream",
     "text": [
      "9\n",
      "27\n",
      "cube 27\n",
      "square 9\n"
     ]
    }
   ],
   "source": [
    "def square(x):\n",
    "    \"\"\"Square of x.\"\"\"\n",
    "    return x*x\n",
    "\n",
    "def cube(x):\n",
    "    \"\"\"Cube of x.\"\"\"\n",
    "    return x*x*x\n",
    "\n",
    "# create a dictionary of functions\n",
    "funcs = {\n",
    "    'square': square,\n",
    "    'cube': cube,\n",
    "}\n",
    "\n",
    "x = 3\n",
    "print(square(x))\n",
    "print(cube(x))\n",
    "\n",
    "for func in sorted(funcs):\n",
    "    print (func, funcs[func](x))"
   ]
  },
  {
   "cell_type": "markdown",
   "metadata": {},
   "source": [
    "## Functions arguments"
   ]
  },
  {
   "cell_type": "markdown",
   "metadata": {},
   "source": [
    "In Python, whether arguments passed to a function are treated as views or copies depends on the data type of the argument and how it is handled inside the function. Here's how Python handles various types of arguments:\n",
    "\n",
    "**Immutable Types** (e.g., integers, strings, tuples):\n",
    "* For immutable types like `int`, `str`, and `tuple`, when you pass them as arguments to a function, Python creates a copy of the reference to the object, not the object itself.\n",
    "* Since these objects cannot be modified, any attempt to change them inside the function results in the creation of a new object, leaving the original object unchanged."
   ]
  },
  {
   "cell_type": "code",
   "execution_count": 9,
   "metadata": {},
   "outputs": [
    {
     "name": "stdout",
     "output_type": "stream",
     "text": [
      "Inside function: 11\n",
      "Outside function: 10\n"
     ]
    }
   ],
   "source": [
    "def modify(x):\n",
    "    x += 1\n",
    "    print(\"Inside function:\", x)\n",
    "\n",
    "a = 10\n",
    "modify(a)\n",
    "print(\"Outside function:\", a)\n"
   ]
  },
  {
   "cell_type": "markdown",
   "metadata": {},
   "source": [
    "**Mutable Types** (e.g., lists, dictionaries, sets):\n",
    "* For mutable types like `list`, `dict`, or `set`, Python passes a reference to the original object. This means that any modification made to the object inside the function will affect the original object outside the function, as they both reference the same object (this behaves like a view)."
   ]
  },
  {
   "cell_type": "code",
   "execution_count": 10,
   "metadata": {},
   "outputs": [
    {
     "name": "stdout",
     "output_type": "stream",
     "text": [
      "Inside function: [1, 2, 3, 4]\n",
      "Outside function: [1, 2, 3, 4]\n"
     ]
    }
   ],
   "source": [
    "def modify_list(lst):\n",
    "    lst.append(4)\n",
    "    print(\"Inside function:\", lst)\n",
    "\n",
    "my_list = [1, 2, 3]\n",
    "modify_list(my_list)\n",
    "print(\"Outside function:\", my_list)\n"
   ]
  },
  {
   "cell_type": "markdown",
   "metadata": {},
   "source": [
    "## Higher order functions\n",
    "\n",
    "A function that uses another function as an input argument or returns a function is known as a higher-order function (HOF). The most familiar examples are `map` and `filter`."
   ]
  },
  {
   "cell_type": "markdown",
   "metadata": {},
   "source": [
    "### map\n",
    "\n",
    "The map function applies a function to each member of a collection"
   ]
  },
  {
   "cell_type": "code",
   "execution_count": null,
   "metadata": {},
   "outputs": [],
   "source": [
    "x = list(map(square, range(5))) \n",
    "print (x)\n",
    "\n",
    "# Note the difference w.r.t python 2. In python 3 map retuns an iterator so you can do stuff like:\n",
    "for i in map(square,range(5)): print(i)\n",
    "\n",
    "# or\n",
    "[i for i in map(square,range(6))]"
   ]
  },
  {
   "cell_type": "markdown",
   "metadata": {},
   "source": [
    "### filter\n",
    "\n",
    "The filter function applies a predicate to each member of a collection, retaining only those members where the predicate is True"
   ]
  },
  {
   "cell_type": "code",
   "execution_count": null,
   "metadata": {},
   "outputs": [],
   "source": [
    "def is_even(x):\n",
    "    return x%2 == 0\n",
    "\n",
    "print (list(filter(is_even, range(5))))"
   ]
  },
  {
   "cell_type": "markdown",
   "metadata": {},
   "source": [
    "Combinations in sequence of HOF are obviously possible"
   ]
  },
  {
   "cell_type": "code",
   "execution_count": null,
   "metadata": {},
   "outputs": [],
   "source": [
    "list(map(square, filter(is_even, range(5))))"
   ]
  },
  {
   "cell_type": "markdown",
   "metadata": {},
   "source": [
    "### reduce\n",
    "\n",
    "The reduce function reduces a collection using a binary operator to combine items two at a time. More often than not reduce can be substituted with a more efficient for loop. It is worth mentioning it for its key role in big-data applications together with map (the map-reduce paradigm). \n",
    "N.B.: it no loger exist as built-in function in python 3, it is now part of the `functools` library"
   ]
  },
  {
   "cell_type": "code",
   "execution_count": null,
   "metadata": {},
   "outputs": [],
   "source": [
    "from functools import reduce\n",
    "\n",
    "def my_add(x, y):\n",
    "    return x + y\n",
    "\n",
    "# another implementation of the sum function\n",
    "reduce(my_add, [1,2,3,4,5])"
   ]
  },
  {
   "cell_type": "markdown",
   "metadata": {},
   "source": [
    "### zip\n",
    "\n",
    "zip is useful when you need to iterate over matched elements of multiple lists"
   ]
  },
  {
   "cell_type": "code",
   "execution_count": null,
   "metadata": {},
   "outputs": [],
   "source": [
    "xs = [1, 2, 3, 4]\n",
    "ys = [10, 20, 30, 40]\n",
    "zs = ['a', 'b', 'c',]\n",
    "\n",
    "for x, y, z in zip(xs, ys, zs):\n",
    "    print (x, y, z)"
   ]
  },
  {
   "cell_type": "markdown",
   "metadata": {},
   "source": [
    "### Custom HOF"
   ]
  },
  {
   "cell_type": "code",
   "execution_count": null,
   "metadata": {},
   "outputs": [],
   "source": [
    "def custom_sum(xs, transform):\n",
    "    \"\"\"Returns the sum of xs after a user specified transform.\"\"\"\n",
    "    return sum(map(transform, xs))\n",
    "\n",
    "xs = range(5)\n",
    "print (custom_sum(xs, square))\n",
    "print (custom_sum(xs, cube))\n",
    "\n"
   ]
  },
  {
   "cell_type": "markdown",
   "metadata": {},
   "source": [
    "### Returning a function"
   ]
  },
  {
   "cell_type": "code",
   "execution_count": null,
   "metadata": {},
   "outputs": [],
   "source": [
    "def make_logger(target):\n",
    "    def logger(data):\n",
    "        with open(target, 'a') as f:\n",
    "            f.write(data + '\\n')\n",
    "    return logger\n",
    "\n",
    "foo_logger = make_logger('foo.txt') #foo.txt will be created if not there already\n",
    "foo_logger('Hello')\n",
    "foo_logger('World')"
   ]
  },
  {
   "cell_type": "code",
   "execution_count": null,
   "metadata": {},
   "outputs": [],
   "source": [
    "! cat 'foo.txt'"
   ]
  },
  {
   "cell_type": "markdown",
   "metadata": {},
   "source": [
    "## Anonimous functions (lambda)\n",
    "\n",
    "When using functional style, there is often the need to create specific functions that perform a limited task as input to a HOF such as map or filter. In such cases, these functions are often written as anonymous or lambda functions. \n",
    "The syntax is as follows:\n",
    "\n",
    "lambda *arguments* : *expression*\n",
    "\n",
    "\n",
    "If you find it hard to understand what a lambda function is doing, it should probably be rewritten as a regular function."
   ]
  },
  {
   "cell_type": "code",
   "execution_count": null,
   "metadata": {},
   "outputs": [],
   "source": [
    "suml = lambda x,y: x+y\n",
    "suml(3,4)"
   ]
  },
  {
   "cell_type": "code",
   "execution_count": null,
   "metadata": {},
   "outputs": [],
   "source": [
    "(lambda x,y: x+y)(3,4)"
   ]
  },
  {
   "cell_type": "code",
   "execution_count": null,
   "metadata": {},
   "outputs": [],
   "source": [
    "for i in map(lambda x: x*x, range(5)): print (i)"
   ]
  },
  {
   "cell_type": "code",
   "execution_count": null,
   "metadata": {},
   "outputs": [],
   "source": [
    "# what does this function do?\n",
    "from functools import reduce\n",
    "s1 = reduce(lambda x, y: x+y, map(lambda x: x**2, range(1,10)))\n",
    "print(s1)\n"
   ]
  },
  {
   "cell_type": "markdown",
   "metadata": {},
   "source": [
    "## Recursive functions "
   ]
  },
  {
   "cell_type": "code",
   "execution_count": null,
   "metadata": {},
   "outputs": [],
   "source": [
    "def fib1(n):\n",
    "    \"\"\"Fib with recursion.\"\"\"\n",
    "\n",
    "    # base case\n",
    "    if n==0 or n==1:\n",
    "        return 1\n",
    "    # recursive case\n",
    "    else:\n",
    "        return fib1(n-1) + fib1(n-2)\n",
    "\n",
    "    \n",
    "print ([fib1(i) for i in range(10)])"
   ]
  },
  {
   "cell_type": "code",
   "execution_count": null,
   "metadata": {},
   "outputs": [],
   "source": [
    "# In Python, a more efficient version that does not use recursion is\n",
    "\n",
    "def fib2(n):\n",
    "    \"\"\"Fib without recursion.\"\"\"\n",
    "    a, b = 0, 1\n",
    "    for i in range(1, n+1):\n",
    "        a, b = b, a+b\n",
    "    return b\n",
    "\n",
    "print ([fib2(i) for i in range(10)])"
   ]
  },
  {
   "cell_type": "code",
   "execution_count": null,
   "metadata": {},
   "outputs": [],
   "source": [
    "# check indeed the timing:\n",
    "\n",
    "%timeit fib1(20)\n",
    "%timeit fib2(20)\n"
   ]
  },
  {
   "cell_type": "markdown",
   "metadata": {},
   "source": [
    "## Iterators\n",
    "\n",
    "Iterators represent streams of values. Because only one value is consumed at a time, they use very little memory. Use of iterators is very helpful for working with data sets too large to fit into RAM."
   ]
  },
  {
   "cell_type": "code",
   "execution_count": null,
   "metadata": {},
   "outputs": [],
   "source": [
    "# Iterators can be created from sequences with the built-in function iter()\n",
    "\n",
    "xs = [1,2,3]\n",
    "x_iter = iter(xs)\n",
    "\n",
    "print (next(x_iter))\n",
    "print (next(x_iter))\n",
    "print (next(x_iter))\n",
    "print (next(x_iter))"
   ]
  },
  {
   "cell_type": "code",
   "execution_count": null,
   "metadata": {},
   "outputs": [],
   "source": [
    "# Most commonly, iterators are used (automatically) within a for loop\n",
    "# which terminates when it encouters a StopIteration exception\n",
    "\n",
    "x_iter = iter(xs)\n",
    "for x in x_iter:\n",
    "    print (x)"
   ]
  },
  {
   "cell_type": "markdown",
   "metadata": {},
   "source": [
    "## More on comprehensions"
   ]
  },
  {
   "cell_type": "code",
   "execution_count": null,
   "metadata": {},
   "outputs": [],
   "source": [
    "# A generator expression\n",
    "\n",
    "print ((x for x in range(10)))\n",
    "\n",
    "# A list comprehesnnion\n",
    "\n",
    "print ([x**2 for x in range(10)])\n",
    "\n",
    "# A set comprehension\n",
    "\n",
    "print ({x for x in range(10)})\n",
    "\n",
    "# A dictionary comprehension\n",
    "\n",
    "print ({str(x): x**2 for x in range(10) if x%2==0})"
   ]
  },
  {
   "cell_type": "markdown",
   "metadata": {},
   "source": [
    "## Useful Modules\n",
    "\n",
    "You may want to have a look at the content of the following modules for further usage of (HO) functions:\n",
    "  - [operator](https://docs.python.org/3/library/operator.html)\n",
    "  - [functools](https://docs.python.org/3/library/functools.html)\n",
    "  - [itertools](https://docs.python.org/3/library/itertools.html)\n",
    "  - [toolz](https://pypi.org/project/toolz/)\n",
    "  - [funcy](https://pypi.org/project/funcy/)"
   ]
  },
  {
   "cell_type": "markdown",
   "metadata": {},
   "source": [
    "## Decorators\n",
    "\n",
    "Decorators are a type of HOF that take a function and return a wrapped function that provides additional useful properties.\n",
    "\n",
    "Examples:\n",
    "\n",
    "  - logging\n",
    "  - profiling\n",
    "  - Just-In-Time (JIT) compilation"
   ]
  },
  {
   "cell_type": "code",
   "execution_count": null,
   "metadata": {},
   "outputs": [],
   "source": [
    "def my_decorator(func):\n",
    "    def wrapper():\n",
    "        print(\"Something is happening before the function is called.\")\n",
    "        func()\n",
    "        print(\"Something is happening after the function is called.\")\n",
    "    return wrapper\n",
    "\n",
    "def say_whee():\n",
    "    print(\"Whee!\")\n",
    "\n",
    "say_whee = my_decorator(say_whee)"
   ]
  },
  {
   "cell_type": "code",
   "execution_count": null,
   "metadata": {},
   "outputs": [],
   "source": [
    "say_whee()"
   ]
  },
  {
   "cell_type": "markdown",
   "metadata": {},
   "source": [
    "Python allows you to use decorators in a simpler way with the @ symbol, sometimes called the “pie” syntax"
   ]
  },
  {
   "cell_type": "code",
   "execution_count": null,
   "metadata": {},
   "outputs": [],
   "source": [
    "def my_decorator(func):\n",
    "    def wrapper():\n",
    "        print(\"Something is happening before the function is called.\")\n",
    "        func()\n",
    "        print(\"Something is happening after the function is called.\")\n",
    "    return wrapper\n",
    "\n",
    "@my_decorator\n",
    "def say_whee():\n",
    "    print(\"Whee!\")"
   ]
  },
  {
   "cell_type": "code",
   "execution_count": null,
   "metadata": {},
   "outputs": [],
   "source": [
    "say_whee()"
   ]
  },
  {
   "cell_type": "markdown",
   "metadata": {},
   "source": [
    "#### JIT\n",
    "\n",
    "A JIT (Just-In-Time) compiler refers to a technique used to improve the performance of code execution by compiling code into machine code at runtime, rather than interpreting it line by line. This helps speed up program execution by reducing the overhead of repeatedly interpreting code.\n",
    "\n",
    "While the standard Python interpreter, CPython, does not include a JIT compiler, there are alternative Python implementations that provide JIT compilation, such as PyPy or [numba](https://numba.pydata.org).\n",
    "\n",
    "JIT combines both interpretation and compilation. It interprets code initially, and as it identifies sections of code that are executed repeatedly, it compiles them to machine code, optimizing performance dynamically.\n",
    "\n"
   ]
  },
  {
   "cell_type": "code",
   "execution_count": null,
   "metadata": {},
   "outputs": [],
   "source": [
    "from numba import jit\n",
    "\n",
    "@jit(nopython=True)\n",
    "def fast_sum(arr):\n",
    "    total = 0.0  # check thi \n",
    "    for i in arr:\n",
    "        total += i\n",
    "    return total\n"
   ]
  },
  {
   "cell_type": "code",
   "execution_count": null,
   "metadata": {},
   "outputs": [],
   "source": [
    "#fast_sum(list(range(100)))\n",
    "#fast_sum([1,2,3,4,5])\n",
    "\n",
    "arr = np.arange(int(1e6), dtype=np.float64)\n",
    "print(fast_sum(arr))\n",
    "\n",
    "# is it really fast? Try to compare with my_add above"
   ]
  },
  {
   "cell_type": "markdown",
   "metadata": {},
   "source": [
    "# Classes and Objects\n",
    "\n",
    "Old school object-oriented programming is possible and often used in python. Classes are defined similarly to standard object-oriented languages, with similar functionalities.\n",
    "\n",
    "The main python doc [page](https://docs.python.org/3/tutorial/classes.html) is worth reading through "
   ]
  },
  {
   "cell_type": "code",
   "execution_count": null,
   "metadata": {},
   "outputs": [],
   "source": [
    "class Pet:\n",
    "    # the \"constructor\"\n",
    "    def __init__(self, name, age):  #inizialize the elements of the class\n",
    "        self.name=name\n",
    "        self.age=age\n",
    "    # class functions take the \"self\" parameter !!!\n",
    "    def set_name(self,name):\n",
    "        self.name=name\n",
    "    def convert_age(self,factor):\n",
    "        self.age*=factor\n",
    "\n",
    "buddy=Pet(\"buddy\",4)\n",
    "print (buddy.name, buddy.age)\n",
    "buddy.age=3\n",
    "print (buddy.convert_age(4))\n",
    "print (buddy.age)\n"
   ]
  },
  {
   "cell_type": "code",
   "execution_count": null,
   "metadata": {},
   "outputs": [],
   "source": [
    "# ineritance is straightforward\n",
    "class Dog(Pet):\n",
    "    # the following variables is \"global\", i.e. holds for all \"Dog\" objects\n",
    "    species = \"mammal\"\n",
    "    # functions can be redefined as usual\n",
    "    def convert_age(self):\n",
    "        self.age*=7\n",
    "    def set_species(self, species):\n",
    "        self.species = species\n",
    "        \n",
    "puppy=Dog(\"tobia\",10)\n",
    "print(puppy.name)\n",
    "puppy.convert_age()\n",
    "print(puppy.age)\n",
    "\n"
   ]
  },
  {
   "cell_type": "code",
   "execution_count": null,
   "metadata": {},
   "outputs": [],
   "source": [
    "from numba import jit\n",
    "import numpy as np\n",
    "\n",
    "@jit(nopython=True)\n",
    "def fast_sum(arr):\n",
    "    total = 0.0  # float to match arr.dtype\n",
    "    for i in arr:\n",
    "        total += i\n",
    "    return total\n",
    "\n",
    "arr = np.arange(1_000_000, dtype=np.float64)\n",
    "print(fast_sum(arr))\n"
   ]
  },
  {
   "cell_type": "code",
   "execution_count": null,
   "metadata": {},
   "outputs": [],
   "source": []
  }
 ],
 "metadata": {
  "kernelspec": {
   "display_name": "base",
   "language": "python",
   "name": "python3"
  },
  "language_info": {
   "codemirror_mode": {
    "name": "ipython",
    "version": 3
   },
   "file_extension": ".py",
   "mimetype": "text/x-python",
   "name": "python",
   "nbconvert_exporter": "python",
   "pygments_lexer": "ipython3",
   "version": "3.12.3"
  }
 },
 "nbformat": 4,
 "nbformat_minor": 4
}
