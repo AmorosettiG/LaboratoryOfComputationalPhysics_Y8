{
 "cells": [
  {
   "cell_type": "markdown",
   "metadata": {},
   "source": [
    "0\\. Implement a function (whatever you want) and save it to a file (e.g. `function.py`). Import that file and use that function in this notebook.\n"
   ]
  },
  {
   "cell_type": "code",
   "execution_count": 166,
   "metadata": {},
   "outputs": [
    {
     "name": "stdout",
     "output_type": "stream",
     "text": [
      "7\n"
     ]
    }
   ],
   "source": [
    "from package.module_01 import square_minus2\n",
    "\n",
    "# created a package \"package\" containing the module \"module_01\"\n",
    "# \"module_01\" is a module containing the function \"square_minus2\" \n",
    "\n",
    "a = 3\n",
    "b = square_minus2(a)\n",
    "print(b)\n",
    "\n",
    "# does not manage import error in case package is not here\n",
    "# also maybe package and function could have been created directly from this notebook ?"
   ]
  },
  {
   "cell_type": "markdown",
   "metadata": {},
   "source": [
    "1\\. Write the following as a list comprehension"
   ]
  },
  {
   "cell_type": "code",
   "execution_count": null,
   "metadata": {},
   "outputs": [
    {
     "name": "stdout",
     "output_type": "stream",
     "text": [
      "[(0, 0), (0, 1), (0, 2), (0, 3), (1, 0), (1, 1), (1, 2), (1, 3), (2, 0), (2, 1), (2, 2), (2, 3)]\n",
      "[0, 4, 16]\n"
     ]
    }
   ],
   "source": [
    "# 1\n",
    "ans = []\n",
    "for i in range(3):\n",
    "    for j in range(4):\n",
    "        ans.append((i, j))\n",
    "print (ans)\n",
    "\n",
    "# 2\n",
    "ans = map(lambda x: x*x, filter(lambda x: x%2 == 0, range(5)))\n",
    "print (list(ans))"
   ]
  },
  {
   "cell_type": "code",
   "execution_count": 168,
   "metadata": {},
   "outputs": [
    {
     "name": "stdout",
     "output_type": "stream",
     "text": [
      "[(0, 0), (0, 1), (0, 2), (0, 3), (1, 0), (1, 1), (1, 2), (1, 3), (2, 0), (2, 1), (2, 2), (2, 3)]\n",
      "[0, 4, 16]\n"
     ]
    }
   ],
   "source": [
    "l1 = [(x, y) for x in range(3) for y in range(4)]\n",
    "print(l1)\n",
    "\n",
    "l2 = [x**2 for x in range(5) if x%2 == 0]\n",
    "print(l2)"
   ]
  },
  {
   "cell_type": "markdown",
   "metadata": {},
   "source": [
    "2\\. Convert the following function into a pure function with no global variables or side effects"
   ]
  },
  {
   "cell_type": "code",
   "execution_count": 169,
   "metadata": {},
   "outputs": [
    {
     "name": "stdout",
     "output_type": "stream",
     "text": [
      "[1, 2, 3, 0, 1, 2, 3, 4]\n",
      "[1, 2, 3, 0, 1, 2, 3, 4]\n"
     ]
    }
   ],
   "source": [
    "x = 5\n",
    "def f(alist):\n",
    "    for i in range(x):\n",
    "         alist.append(i)\n",
    "    return alist\n",
    "\n",
    "alist = [1,2,3]\n",
    "ans = f(alist)\n",
    "print (ans)\n",
    "print (alist) # alist has been changed!"
   ]
  },
  {
   "cell_type": "code",
   "execution_count": 170,
   "metadata": {},
   "outputs": [
    {
     "name": "stdout",
     "output_type": "stream",
     "text": [
      "[1, 2, 3, 0, 1, 2, 3, 4]\n",
      "[1, 2, 3]\n"
     ]
    }
   ],
   "source": [
    "x = 5\n",
    "\n",
    "def f(alist, a):\n",
    "    \n",
    "    # import copy\n",
    "    # alist = copy.copy(alist)\n",
    "    # for i in range(a):\n",
    "    #      alist.append(i)\n",
    "    # return alist\n",
    "    \n",
    "    # the above works but cleaner this way (return a new list and don't use global x) :\n",
    "    return alist + list(range(a))\n",
    "\n",
    "alist = [1,2,3]\n",
    "ans = f(alist, x)\n",
    "\n",
    "print (ans)\n",
    "print (alist) # alist has not been changed!"
   ]
  },
  {
   "cell_type": "markdown",
   "metadata": {},
   "source": [
    "3\\. Write a `decorator` hello that makes every wrapped function print “Hello!”, i.e. something like:\n",
    "\n",
    "```python\n",
    "@hello\n",
    "def square(x):\n",
    "    return x*x\n",
    "```\n",
    "\n"
   ]
  },
  {
   "cell_type": "code",
   "execution_count": 171,
   "metadata": {},
   "outputs": [],
   "source": [
    "def decorator01(function3):\n",
    "    def wrapper(*args, **kwargs):\n",
    "        print(\"Hello\")\n",
    "        return function3(*args, **kwargs)\n",
    "    return wrapper"
   ]
  },
  {
   "cell_type": "code",
   "execution_count": 172,
   "metadata": {},
   "outputs": [
    {
     "name": "stdout",
     "output_type": "stream",
     "text": [
      "Hello\n",
      "4\n"
     ]
    }
   ],
   "source": [
    "def square(x):\n",
    "    return x*x\n",
    "\n",
    "square_hello = decorator01(square)\n",
    "\n",
    "print(square_hello(2))"
   ]
  },
  {
   "cell_type": "code",
   "execution_count": 173,
   "metadata": {},
   "outputs": [
    {
     "name": "stdout",
     "output_type": "stream",
     "text": [
      "Hello\n",
      "8\n"
     ]
    }
   ],
   "source": [
    "@decorator01\n",
    "def cube(x):\n",
    "    return x**3\n",
    "\n",
    "print(cube(2))"
   ]
  },
  {
   "cell_type": "markdown",
   "metadata": {},
   "source": [
    "4\\. Write the factorial function so that it a) does and b) does not use recursion."
   ]
  },
  {
   "cell_type": "code",
   "execution_count": 174,
   "metadata": {},
   "outputs": [
    {
     "name": "stdout",
     "output_type": "stream",
     "text": [
      "[1, 1, 2, 6, 24, 120, 720, 5040, 40320, 362880, 3628800]\n"
     ]
    }
   ],
   "source": [
    "# a)\n",
    "\n",
    "def factorial_a(n):\n",
    "    if n == 0:\n",
    "        return 1\n",
    "    else: \n",
    "        return n*factorial_a(n-1)\n",
    "    \n",
    "print([factorial_a(x) for x in range(11)])"
   ]
  },
  {
   "cell_type": "code",
   "execution_count": 175,
   "metadata": {},
   "outputs": [
    {
     "name": "stdout",
     "output_type": "stream",
     "text": [
      "[1, 1, 2, 6, 24, 120, 720, 5040, 40320, 362880, 3628800]\n"
     ]
    }
   ],
   "source": [
    "# b) \n",
    "\n",
    "def factorial_b(n):\n",
    "    a = 1\n",
    "    for i in range(1,n+1):\n",
    "        a *= i \n",
    "    return a\n",
    "\n",
    "print([factorial_b(x) for x in range(11)])\n",
    "\n",
    "\n",
    "# should implement n positive verification in both case"
   ]
  },
  {
   "cell_type": "markdown",
   "metadata": {},
   "source": [
    "5\\. Use HOFs (zip in particular) to compute the weight of a circle, a disk and a sphere, assuming different radii and different densities:\n",
    "\n",
    "```python\n",
    "densities = {\"Al\":[0.5,1,2],\"Fe\":[3,4,5],\"Pb\": [15,20,30]}\n",
    "radii = [1,2,3]\n",
    "```\n",
    "\n",
    "where the entries of the dictionary's values are the linear, superficial and volumetric densities of the materials respectively.\n",
    "\n",
    "In particular define a list of three lambda functions using a comprehension that computes the circumference, the area and the volume for a given radius.\n"
   ]
  },
  {
   "cell_type": "code",
   "execution_count": null,
   "metadata": {},
   "outputs": [
    {
     "name": "stdout",
     "output_type": "stream",
     "text": [
      "Material Al\n",
      "radii = 1, weight of circle, disk and sphere :  [3.141592653589793, 3.141592653589793, 8.377580409572781]\n",
      "radii = 2, weight of circle, disk and sphere :  [6.283185307179586, 12.566370614359172, 67.02064327658225]\n",
      "radii = 3, weight of circle, disk and sphere :  [9.42477796076938, 28.274333882308138, 226.19467105846508]\n",
      "\n",
      "\n",
      "Material Fe\n",
      "radii = 1, weight of circle, disk and sphere :  [18.84955592153876, 12.566370614359172, 20.94395102393195]\n",
      "radii = 2, weight of circle, disk and sphere :  [37.69911184307752, 50.26548245743669, 167.5516081914556]\n",
      "radii = 3, weight of circle, disk and sphere :  [56.548667764616276, 113.09733552923255, 565.4866776461627]\n",
      "\n",
      "\n",
      "Material Pb\n",
      "radii = 1, weight of circle, disk and sphere :  [94.24777960769379, 62.83185307179586, 125.66370614359172]\n",
      "radii = 2, weight of circle, disk and sphere :  [188.49555921538757, 251.32741228718345, 1005.3096491487338]\n",
      "radii = 3, weight of circle, disk and sphere :  [282.74333882308133, 565.4866776461628, 3392.9200658769764]\n",
      "\n",
      "\n"
     ]
    }
   ],
   "source": [
    "import numpy as np\n",
    "\n",
    "densities = {\"Al\":[0.5,1,2],\"Fe\":[3,4,5],\"Pb\": [15,20,30]}\n",
    "radii = [1,2,3]\n",
    "\n",
    "functions = (lambda r, d : d*2*np.pi*r,         # perimeter\n",
    "            lambda r, d : d*np.pi*r**2,         # surface\n",
    "            lambda r, d : d*(4/3)*np.pi*r**3)   # volume\n",
    "\n",
    "\n",
    "formulas = [ (lambda op: (lambda r,d: op(r,d)))(op) for op in functions ]\n",
    "# ok did not understand this but apparently better to avoid late binding\n",
    "\n",
    "for material, density in densities.items():\n",
    "    \n",
    "    print(\"Material\", material)\n",
    "    \n",
    "    for r in radii :\n",
    "        weights = [ f(r, d)  for f, d in zip(formulas, density) ]\n",
    "        print(f\"radii = {r}, weight of circle, disk and sphere : \", weights)\n",
    "        \n",
    "    print(\"\\n\")"
   ]
  },
  {
   "cell_type": "markdown",
   "metadata": {},
   "source": [
    "6\\. Edit the class defintion to add an instance attribute of is_hungry = True to the Dog class. Then add a method called eat() which changes the value of is_hungry to False when called. Figure out the best way to feed each dog and then output “My dogs are hungry.” if all are hungry or “My dogs are not hungry.” if all are not hungry. The final output should look like this:\n",
    "\n",
    "`I have 3 dogs. \n",
    "Tom is 6. \n",
    "Fletcher is 7. \n",
    "Larry is 9. \n",
    "And they're all mammals, of course. \n",
    "My dogs are not hungry.\n",
    "`\n",
    "\n",
    "```python\n",
    "# Parent class\n",
    "class Dog:\n",
    "\n",
    "    # Class attribute\n",
    "    species = 'mammal'\n",
    "\n",
    "    # Initializer / Instance attributes\n",
    "    def __init__(self, name, age):\n",
    "        self.name = name\n",
    "        self.age = age\n",
    "\n",
    "    # instance method\n",
    "    def description(self):\n",
    "        return \"{} is {} years old\".format(self.name, self.age)\n",
    "\n",
    "    # instance method\n",
    "    def speak(self, sound):\n",
    "        return \"{} says {}\".format(self.name, sound)\n",
    "\n",
    "# Child class (inherits from Dog class)\n",
    "class RussellTerrier(Dog):\n",
    "    def run(self, speed):\n",
    "        return \"{} runs {}\".format(self.name, speed)\n",
    "\n",
    "# Child class (inherits from Dog class)\n",
    "class Bulldog(Dog):\n",
    "    def run(self, speed):\n",
    "        return \"{} runs {}\".format(self.name, speed)\n",
    "```"
   ]
  },
  {
   "cell_type": "code",
   "execution_count": 177,
   "metadata": {},
   "outputs": [],
   "source": [
    "# Parent class\n",
    "class Dog:\n",
    "\n",
    "    # Class attribute\n",
    "    species = 'mammal'\n",
    "\n",
    "    # Initializer / Instance attributes\n",
    "    def __init__(self, name, age, is_hungry = True):\n",
    "        self.name = name\n",
    "        self.age = age\n",
    "        self.is_hungry = is_hungry\n",
    "        \n",
    "\n",
    "    # instance method\n",
    "    def description(self):\n",
    "        return \"{} is {} years old\".format(self.name, self.age)\n",
    "\n",
    "    # instance method\n",
    "    def speak(self, sound):\n",
    "        return \"{} says {}\".format(self.name, sound)\n",
    "    \n",
    "    # new instance method\n",
    "    def eat(self):\n",
    "        self.is_hungry = False\n",
    "\n",
    "# Child class (inherits from Dog class)\n",
    "class RussellTerrier(Dog):\n",
    "    def run(self, speed):\n",
    "        return \"{} runs {}\".format(self.name, speed)\n",
    "\n",
    "# Child class (inherits from Dog class)\n",
    "class Bulldog(Dog):\n",
    "    def run(self, speed):\n",
    "        return \"{} runs {}\".format(self.name, speed)"
   ]
  },
  {
   "cell_type": "code",
   "execution_count": 178,
   "metadata": {},
   "outputs": [
    {
     "name": "stdout",
     "output_type": "stream",
     "text": [
      "I have 3 dogs. Tom is 6 years old. Fletcher is 7 years old. Larry is 9 years old. And they're all mammals, of course. My dogs are not hungry. \n"
     ]
    }
   ],
   "source": [
    "dogs = {\"Tom\" : 6,\n",
    "        \"Fletcher\" : 7,\n",
    "        \"Larry\" : 9}        \n",
    "\n",
    "dogs_objects = [Dog(a, b) for a, b in dogs.items()]\n",
    "\n",
    "for dog in dogs_objects:\n",
    "    dog.eat()\n",
    "    \n",
    "    \n",
    "output = f\"I have {len(dogs_objects)} dogs. \"\n",
    "\n",
    "for dog in dogs_objects:\n",
    "    output += f\"{dog.description()}. \"\n",
    "\n",
    "output += f\"And they're all mammals, of course. \"\n",
    "\n",
    "if all(not dog.is_hungry for dog in dogs_objects):\n",
    "    output += \"My dogs are not hungry. \"\n",
    "    \n",
    "elif all(dog.is_hungry for dog in dogs_objects):\n",
    "    output += \"My dogs are hungry. \"\n",
    "    \n",
    "# else:\n",
    "#     output += \"Some of my dogs are hungry.\"\n",
    "\n",
    "print(output)\n"
   ]
  }
 ],
 "metadata": {
  "kernelspec": {
   "display_name": "base",
   "language": "python",
   "name": "python3"
  },
  "language_info": {
   "codemirror_mode": {
    "name": "ipython",
    "version": 3
   },
   "file_extension": ".py",
   "mimetype": "text/x-python",
   "name": "python",
   "nbconvert_exporter": "python",
   "pygments_lexer": "ipython3",
   "version": "3.12.3"
  }
 },
 "nbformat": 4,
 "nbformat_minor": 2
}
